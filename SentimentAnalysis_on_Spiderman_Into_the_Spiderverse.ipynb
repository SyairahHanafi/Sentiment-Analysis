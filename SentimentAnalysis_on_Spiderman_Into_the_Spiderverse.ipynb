{
  "nbformat": 4,
  "nbformat_minor": 0,
  "metadata": {
    "colab": {
      "provenance": []
    },
    "kernelspec": {
      "name": "python3",
      "display_name": "Python 3"
    },
    "language_info": {
      "name": "python"
    }
  },
  "cells": [
    {
      "cell_type": "code",
      "source": [
        "import pandas as pd\n",
        "import numpy as np\n",
        "from langdetect import detect\n",
        "from google.colab import drive\n",
        "import re\n",
        "\n",
        "drive.mount('/content/drive')\n",
        "file_path = \"/content/drive/MyDrive/SPIDERVERSE_2023.xlsx\"\n",
        "df = pd.read_excel(file_path)\n",
        "\n",
        "expected_columns = ['rating-other-user-rating', 'display-name-link', 'text', 'actions']\n",
        "missing_columns = [col for col in expected_columns if col not in df.columns]\n",
        "\n",
        "if missing_columns:\n",
        "    print(f\"Warning: Missing columns: {missing_columns}\")\n",
        "else:\n",
        "    df = df[expected_columns]\n",
        "\n",
        "df = df.rename(columns={\n",
        "    'rating-other-user-rating': 'Rating',\n",
        "    'display-name-link': 'User',\n",
        "    'text': 'Comment',\n",
        "    'actions': 'Voted Total'\n",
        "})\n",
        "\n",
        "#remove special characters\n",
        "df['Comment'] = df['Comment'].str.replace('[^\\w\\s]', '', regex=True)\n",
        "df['Voted Total'] = df['Voted Total'].apply(lambda x: int(re.search(r'\\d+', str(x)).group()) if pd.notna(x) else 0)\n",
        "\n",
        "#drop where rating = missing\n",
        "df = df.dropna(subset=['Rating'])\n",
        "\n",
        "cleaned_file_path = \"/content/drive/MyDrive/SPIDERVERSE_2023_CLEANING.xlsx\"\n",
        "df.to_excel(cleaned_file_path, index=False)\n",
        "\n",
        "print(f\"Cleaned dataset saved at: {cleaned_file_path}\")"
      ],
      "metadata": {
        "id": "jQdp5KVXNy_Y"
      },
      "execution_count": null,
      "outputs": []
    }
  ]
}